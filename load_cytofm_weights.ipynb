{
 "cells": [
  {
   "cell_type": "markdown",
   "id": "b2f5965c-c5fd-407e-8256-c87e21002e37",
   "metadata": {},
   "source": [
    "## Example loading of CytoFM weights into a ViT\n",
    "- Code is based on that found in the iBOT Github: https://github.com/bytedance/ibot\n",
    "- Need to have pulled iBOT code to run this notebook!"
   ]
  },
  {
   "cell_type": "code",
   "execution_count": 9,
   "id": "e710929b-d4f2-49a3-a50e-0481b86291c3",
   "metadata": {},
   "outputs": [
    {
     "name": "stdout",
     "output_type": "stream",
     "text": [
      "The autoreload extension is already loaded. To reload it, use:\n",
      "  %reload_ext autoreload\n"
     ]
    }
   ],
   "source": [
    "import sys\n",
    "import os\n",
    "\n",
    "import torch\n",
    "\n",
    "sys.path.append(\"../../bytedance_ibot/ibot/\")\n",
    "\n",
    "from models import VisionTransformer, vit_tiny, vit_small, vit_base, vit_large\n",
    "from models import SwinTransformer, swin_tiny, swin_small, swin_base\n",
    "    \n",
    "os.environ['CUDA_VISIBLE_DEVICES'] = '4'\n",
    "\n",
    "%load_ext autoreload\n",
    "%autoreload 2"
   ]
  },
  {
   "cell_type": "code",
   "execution_count": 2,
   "id": "9ae7418e-f66b-43d9-b531-40b679d664a8",
   "metadata": {},
   "outputs": [
    {
     "data": {
      "text/plain": [
       "True"
      ]
     },
     "execution_count": 2,
     "metadata": {},
     "output_type": "execute_result"
    }
   ],
   "source": [
    "torch.cuda.is_available()"
   ]
  },
  {
   "cell_type": "code",
   "execution_count": 3,
   "id": "742ae9d7-4271-4581-9160-20e7f7d334e3",
   "metadata": {},
   "outputs": [],
   "source": [
    "# path to model weights\n",
    "model_weights = '/radraid/vivezic/ibot_checkpoints/checkpoint_epoch33.pth'"
   ]
  },
  {
   "cell_type": "code",
   "execution_count": 4,
   "id": "9733173d-ccf4-4e11-8818-4279cbf91414",
   "metadata": {},
   "outputs": [],
   "source": [
    "# load weights\n",
    "ck = torch.load(model_weights, map_location=torch.device('cpu'))"
   ]
  },
  {
   "cell_type": "code",
   "execution_count": 5,
   "id": "1bba344b-2001-4bff-8db1-401665e2b9d7",
   "metadata": {
    "scrolled": true
   },
   "outputs": [
    {
     "name": "stdout",
     "output_type": "stream",
     "text": [
      "backbone.cls_token\n",
      "backbone.pos_embed\n",
      "backbone.patch_embed.proj.weight\n",
      "backbone.patch_embed.proj.bias\n",
      "backbone.blocks.0.norm1.weight\n",
      "backbone.blocks.0.norm1.bias\n",
      "backbone.blocks.0.attn.qkv.weight\n",
      "backbone.blocks.0.attn.qkv.bias\n",
      "backbone.blocks.0.attn.proj.weight\n",
      "backbone.blocks.0.attn.proj.bias\n",
      "backbone.blocks.0.norm2.weight\n",
      "backbone.blocks.0.norm2.bias\n",
      "backbone.blocks.0.mlp.fc1.weight\n",
      "backbone.blocks.0.mlp.fc1.bias\n",
      "backbone.blocks.0.mlp.fc2.weight\n",
      "backbone.blocks.0.mlp.fc2.bias\n",
      "backbone.blocks.1.norm1.weight\n",
      "backbone.blocks.1.norm1.bias\n",
      "backbone.blocks.1.attn.qkv.weight\n",
      "backbone.blocks.1.attn.qkv.bias\n",
      "backbone.blocks.1.attn.proj.weight\n",
      "backbone.blocks.1.attn.proj.bias\n",
      "backbone.blocks.1.norm2.weight\n",
      "backbone.blocks.1.norm2.bias\n",
      "backbone.blocks.1.mlp.fc1.weight\n",
      "backbone.blocks.1.mlp.fc1.bias\n",
      "backbone.blocks.1.mlp.fc2.weight\n",
      "backbone.blocks.1.mlp.fc2.bias\n",
      "backbone.blocks.2.norm1.weight\n",
      "backbone.blocks.2.norm1.bias\n",
      "backbone.blocks.2.attn.qkv.weight\n",
      "backbone.blocks.2.attn.qkv.bias\n",
      "backbone.blocks.2.attn.proj.weight\n",
      "backbone.blocks.2.attn.proj.bias\n",
      "backbone.blocks.2.norm2.weight\n",
      "backbone.blocks.2.norm2.bias\n",
      "backbone.blocks.2.mlp.fc1.weight\n",
      "backbone.blocks.2.mlp.fc1.bias\n",
      "backbone.blocks.2.mlp.fc2.weight\n",
      "backbone.blocks.2.mlp.fc2.bias\n",
      "backbone.blocks.3.norm1.weight\n",
      "backbone.blocks.3.norm1.bias\n",
      "backbone.blocks.3.attn.qkv.weight\n",
      "backbone.blocks.3.attn.qkv.bias\n",
      "backbone.blocks.3.attn.proj.weight\n",
      "backbone.blocks.3.attn.proj.bias\n",
      "backbone.blocks.3.norm2.weight\n",
      "backbone.blocks.3.norm2.bias\n",
      "backbone.blocks.3.mlp.fc1.weight\n",
      "backbone.blocks.3.mlp.fc1.bias\n",
      "backbone.blocks.3.mlp.fc2.weight\n",
      "backbone.blocks.3.mlp.fc2.bias\n",
      "backbone.blocks.4.norm1.weight\n",
      "backbone.blocks.4.norm1.bias\n",
      "backbone.blocks.4.attn.qkv.weight\n",
      "backbone.blocks.4.attn.qkv.bias\n",
      "backbone.blocks.4.attn.proj.weight\n",
      "backbone.blocks.4.attn.proj.bias\n",
      "backbone.blocks.4.norm2.weight\n",
      "backbone.blocks.4.norm2.bias\n",
      "backbone.blocks.4.mlp.fc1.weight\n",
      "backbone.blocks.4.mlp.fc1.bias\n",
      "backbone.blocks.4.mlp.fc2.weight\n",
      "backbone.blocks.4.mlp.fc2.bias\n",
      "backbone.blocks.5.norm1.weight\n",
      "backbone.blocks.5.norm1.bias\n",
      "backbone.blocks.5.attn.qkv.weight\n",
      "backbone.blocks.5.attn.qkv.bias\n",
      "backbone.blocks.5.attn.proj.weight\n",
      "backbone.blocks.5.attn.proj.bias\n",
      "backbone.blocks.5.norm2.weight\n",
      "backbone.blocks.5.norm2.bias\n",
      "backbone.blocks.5.mlp.fc1.weight\n",
      "backbone.blocks.5.mlp.fc1.bias\n",
      "backbone.blocks.5.mlp.fc2.weight\n",
      "backbone.blocks.5.mlp.fc2.bias\n",
      "backbone.blocks.6.norm1.weight\n",
      "backbone.blocks.6.norm1.bias\n",
      "backbone.blocks.6.attn.qkv.weight\n",
      "backbone.blocks.6.attn.qkv.bias\n",
      "backbone.blocks.6.attn.proj.weight\n",
      "backbone.blocks.6.attn.proj.bias\n",
      "backbone.blocks.6.norm2.weight\n",
      "backbone.blocks.6.norm2.bias\n",
      "backbone.blocks.6.mlp.fc1.weight\n",
      "backbone.blocks.6.mlp.fc1.bias\n",
      "backbone.blocks.6.mlp.fc2.weight\n",
      "backbone.blocks.6.mlp.fc2.bias\n",
      "backbone.blocks.7.norm1.weight\n",
      "backbone.blocks.7.norm1.bias\n",
      "backbone.blocks.7.attn.qkv.weight\n",
      "backbone.blocks.7.attn.qkv.bias\n",
      "backbone.blocks.7.attn.proj.weight\n",
      "backbone.blocks.7.attn.proj.bias\n",
      "backbone.blocks.7.norm2.weight\n",
      "backbone.blocks.7.norm2.bias\n",
      "backbone.blocks.7.mlp.fc1.weight\n",
      "backbone.blocks.7.mlp.fc1.bias\n",
      "backbone.blocks.7.mlp.fc2.weight\n",
      "backbone.blocks.7.mlp.fc2.bias\n",
      "backbone.blocks.8.norm1.weight\n",
      "backbone.blocks.8.norm1.bias\n",
      "backbone.blocks.8.attn.qkv.weight\n",
      "backbone.blocks.8.attn.qkv.bias\n",
      "backbone.blocks.8.attn.proj.weight\n",
      "backbone.blocks.8.attn.proj.bias\n",
      "backbone.blocks.8.norm2.weight\n",
      "backbone.blocks.8.norm2.bias\n",
      "backbone.blocks.8.mlp.fc1.weight\n",
      "backbone.blocks.8.mlp.fc1.bias\n",
      "backbone.blocks.8.mlp.fc2.weight\n",
      "backbone.blocks.8.mlp.fc2.bias\n",
      "backbone.blocks.9.norm1.weight\n",
      "backbone.blocks.9.norm1.bias\n",
      "backbone.blocks.9.attn.qkv.weight\n",
      "backbone.blocks.9.attn.qkv.bias\n",
      "backbone.blocks.9.attn.proj.weight\n",
      "backbone.blocks.9.attn.proj.bias\n",
      "backbone.blocks.9.norm2.weight\n",
      "backbone.blocks.9.norm2.bias\n",
      "backbone.blocks.9.mlp.fc1.weight\n",
      "backbone.blocks.9.mlp.fc1.bias\n",
      "backbone.blocks.9.mlp.fc2.weight\n",
      "backbone.blocks.9.mlp.fc2.bias\n",
      "backbone.blocks.10.norm1.weight\n",
      "backbone.blocks.10.norm1.bias\n",
      "backbone.blocks.10.attn.qkv.weight\n",
      "backbone.blocks.10.attn.qkv.bias\n",
      "backbone.blocks.10.attn.proj.weight\n",
      "backbone.blocks.10.attn.proj.bias\n",
      "backbone.blocks.10.norm2.weight\n",
      "backbone.blocks.10.norm2.bias\n",
      "backbone.blocks.10.mlp.fc1.weight\n",
      "backbone.blocks.10.mlp.fc1.bias\n",
      "backbone.blocks.10.mlp.fc2.weight\n",
      "backbone.blocks.10.mlp.fc2.bias\n",
      "backbone.blocks.11.norm1.weight\n",
      "backbone.blocks.11.norm1.bias\n",
      "backbone.blocks.11.attn.qkv.weight\n",
      "backbone.blocks.11.attn.qkv.bias\n",
      "backbone.blocks.11.attn.proj.weight\n",
      "backbone.blocks.11.attn.proj.bias\n",
      "backbone.blocks.11.norm2.weight\n",
      "backbone.blocks.11.norm2.bias\n",
      "backbone.blocks.11.mlp.fc1.weight\n",
      "backbone.blocks.11.mlp.fc1.bias\n",
      "backbone.blocks.11.mlp.fc2.weight\n",
      "backbone.blocks.11.mlp.fc2.bias\n",
      "backbone.norm.weight\n",
      "backbone.norm.bias\n",
      "head.mlp.0.weight\n",
      "head.mlp.0.bias\n",
      "head.mlp.2.weight\n",
      "head.mlp.2.bias\n",
      "head.mlp.4.weight\n",
      "head.mlp.4.bias\n",
      "head.last_layer.weight_g\n",
      "head.last_layer.weight_v\n",
      "head.last_layer2.weight_g\n",
      "head.last_layer2.weight_v\n"
     ]
    }
   ],
   "source": [
    "# load teacher weights into vit_base (configured in ibot code)\n",
    "output_dict = dict(state_dict=dict())\n",
    "has_backbone = False\n",
    "for key, value in ck['teacher'].items():\n",
    "    print(key)\n",
    "    if key.startswith('backbone'):\n",
    "        output_dict['state_dict'][key[9:]] = value\n",
    "        has_backbone = True\n",
    "    elif key.startswith('module.backbone'):\n",
    "        output_dict['state_dict'][key[16:]] = value\n",
    "        has_backbone = True\n",
    "vit = vit_base(patch_size=16).cuda()\n",
    "vit.load_state_dict(output_dict['state_dict'], strict=True)\n",
    "vit.eval();\n",
    "for p in vit.parameters():\n",
    "    p.requires_grad = False"
   ]
  },
  {
   "cell_type": "code",
   "execution_count": 11,
   "id": "d00d0382-ff77-4faf-ad4e-399744d44e2e",
   "metadata": {},
   "outputs": [
    {
     "data": {
      "text/plain": [
       "torch.Size([1, 768])"
      ]
     },
     "execution_count": 11,
     "metadata": {},
     "output_type": "execute_result"
    }
   ],
   "source": [
    "# check model loaded correctly and runs on an image\n",
    "\n",
    "img = torch.randn([1, 3, 224, 224])\n",
    "\n",
    "with torch.no_grad():\n",
    "    features = vit(img.cuda())\n",
    "features.shape"
   ]
  },
  {
   "cell_type": "code",
   "execution_count": null,
   "id": "db6edbc3-08f3-4d17-9589-4e775c5bbc09",
   "metadata": {},
   "outputs": [],
   "source": []
  }
 ],
 "metadata": {
  "kernelspec": {
   "display_name": "old_pytorch",
   "language": "python",
   "name": "old_pytorch"
  },
  "language_info": {
   "codemirror_mode": {
    "name": "ipython",
    "version": 3
   },
   "file_extension": ".py",
   "mimetype": "text/x-python",
   "name": "python",
   "nbconvert_exporter": "python",
   "pygments_lexer": "ipython3",
   "version": "3.9.21"
  }
 },
 "nbformat": 4,
 "nbformat_minor": 5
}
