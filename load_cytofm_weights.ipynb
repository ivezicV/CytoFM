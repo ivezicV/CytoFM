{
 "cells": [
  {
   "cell_type": "markdown",
   "id": "b2f5965c-c5fd-407e-8256-c87e21002e37",
   "metadata": {},
   "source": [
    "## Example loading of CytoFM weights into a ViT\n",
    "- Code is based on that found in the iBOT Github: https://github.com/bytedance/ibot\n",
    "- Need to have pulled iBOT code to run this notebook!"
   ]
  },
  {
   "cell_type": "code",
   "execution_count": 9,
   "id": "e710929b-d4f2-49a3-a50e-0481b86291c3",
   "metadata": {},
   "outputs": [
    {
     "name": "stdout",
     "output_type": "stream",
     "text": [
      "The autoreload extension is already loaded. To reload it, use:\n",
      "  %reload_ext autoreload\n"
     ]
    }
   ],
   "source": [
    "import sys\n",
    "import os\n",
    "\n",
    "import torch\n",
    "\n",
    "sys.path.append(\"../../bytedance_ibot/ibot/\")\n",
    "\n",
    "from models import VisionTransformer, vit_tiny, vit_small, vit_base, vit_large\n",
    "from models import SwinTransformer, swin_tiny, swin_small, swin_base\n",
    "    \n",
    "os.environ['CUDA_VISIBLE_DEVICES'] = '4'\n",
    "\n",
    "%load_ext autoreload\n",
    "%autoreload 2"
   ]
  },
  {
   "cell_type": "code",
   "execution_count": 2,
   "id": "9ae7418e-f66b-43d9-b531-40b679d664a8",
   "metadata": {},
   "outputs": [
    {
     "data": {
      "text/plain": [
       "True"
      ]
     },
     "execution_count": 2,
     "metadata": {},
     "output_type": "execute_result"
    }
   ],
   "source": [
    "torch.cuda.is_available()"
   ]
  },
  {
   "cell_type": "code",
   "execution_count": 3,
   "id": "742ae9d7-4271-4581-9160-20e7f7d334e3",
   "metadata": {},
   "outputs": [],
   "source": [
    "# path to model weights\n",
    "model_weights = 'cytofm_weights.pth'"
   ]
  },
  {
   "cell_type": "code",
   "execution_count": 4,
   "id": "9733173d-ccf4-4e11-8818-4279cbf91414",
   "metadata": {},
   "outputs": [],
   "source": [
    "# load weights\n",
    "ck = torch.load(model_weights, map_location=torch.device('cpu'))"
   ]
  },
  {
   "cell_type": "code",
   "execution_count": 52,
   "id": "1bba344b-2001-4bff-8db1-401665e2b9d7",
   "metadata": {
    "scrolled": true
   },
   "outputs": [],
   "source": [
    "# load teacher weights into vit_base (configured in ibot code)\n",
    "output_dict = dict(state_dict=dict())\n",
    "has_backbone = False\n",
    "for key, value in ck['teacher'].items():\n",
    "    #print(key)\n",
    "    if key.startswith('backbone'):\n",
    "        output_dict['state_dict'][key[9:]] = value\n",
    "        has_backbone = True\n",
    "    elif key.startswith('module.backbone'):\n",
    "        output_dict['state_dict'][key[16:]] = value\n",
    "        has_backbone = True\n",
    "vit = vit_base(patch_size=16).cuda()\n",
    "vit.load_state_dict(output_dict['state_dict'], strict=True)\n",
    "vit.eval();\n",
    "for p in vit.parameters():\n",
    "    p.requires_grad = False"
   ]
  },
  {
   "cell_type": "code",
   "execution_count": 53,
   "id": "d00d0382-ff77-4faf-ad4e-399744d44e2e",
   "metadata": {},
   "outputs": [
    {
     "data": {
      "text/plain": [
       "torch.Size([1, 768])"
      ]
     },
     "execution_count": 53,
     "metadata": {},
     "output_type": "execute_result"
    }
   ],
   "source": [
    "# check model loaded correctly and runs on an image\n",
    "\n",
    "img = torch.randn([1, 3, 224, 224])\n",
    "\n",
    "with torch.no_grad():\n",
    "    features = vit(img.cuda())\n",
    "features.shape"
   ]
  },
  {
   "cell_type": "code",
   "execution_count": null,
   "id": "db6edbc3-08f3-4d17-9589-4e775c5bbc09",
   "metadata": {},
   "outputs": [],
   "source": []
  },
  {
   "cell_type": "code",
   "execution_count": null,
   "id": "94dfa312-e1af-4aad-94f6-e4a0be22e654",
   "metadata": {},
   "outputs": [],
   "source": []
  }
 ],
 "metadata": {
  "kernelspec": {
   "display_name": "old_pytorch",
   "language": "python",
   "name": "old_pytorch"
  },
  "language_info": {
   "codemirror_mode": {
    "name": "ipython",
    "version": 3
   },
   "file_extension": ".py",
   "mimetype": "text/x-python",
   "name": "python",
   "nbconvert_exporter": "python",
   "pygments_lexer": "ipython3",
   "version": "3.9.21"
  }
 },
 "nbformat": 4,
 "nbformat_minor": 5
}
